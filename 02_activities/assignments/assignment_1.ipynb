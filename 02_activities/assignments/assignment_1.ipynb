{
 "cells": [
  {
   "cell_type": "markdown",
   "metadata": {},
   "source": [
    "# Coding Problems\n",
    "\n",
    "## Objective\n",
    "\n",
    "This assignment aims to demonstrate how to study a data structures or algorithms question in depth to prepare for an industry coding interview. Leetcode is a popular coding practice site that many use to practice for technical interviews. Like behavioral interviews, it's important to practice and keep your skills sharp.\n",
    "\n",
    "## Group Size\n",
    "\n",
    "Please complete this individually.\n",
    "\n",
    "## Part 1:\n",
    "\n",
    "_*You will be assigned one of three problems based of your first name. Execute the code below, and that will tell you your assigned problem. Include the output as part of your submission (do not clear the output). The problems are based-off problems from Leetcode.*_\n"
   ]
  },
  {
   "cell_type": "code",
   "execution_count": 201,
   "metadata": {},
   "outputs": [
    {
     "name": "stdout",
     "output_type": "stream",
     "text": [
      "3\n"
     ]
    }
   ],
   "source": [
    "print((hash('Jyoti Narang') % 3) + 1)"
   ]
  },
  {
   "cell_type": "markdown",
   "metadata": {},
   "source": [
    "<details>\n",
    "  <summary>Question 1</summary>\n",
    "\n",
    "  # Question One: Check Duplicates in Tree\n",
    "\n",
    "  Given the `root` of a binary tree, check whether it is contains a duplicate value. If a duplicate exists, return the duplicate value. If there are multiple duplicates, return the one with the closest distance to the root. If no duplicate exists, return -1.\n",
    "\n",
    "  ## Examples\n",
    "\n",
    "  ### Example 1\n",
    "\n",
    "  ![](./images/q1_ex1.png)\n",
    "\n",
    "  Input: `root = [1, 2, 2, 3, 5, 6, 7]` *What traversal method is this?*\n",
    "\n",
    "  Output: 2\n",
    "\n",
    "  ### Example 2\n",
    "\n",
    "  ![](./images/q1_ex2.png)\n",
    "\n",
    "  Input: `root = [1, 10, 2, 3, 10, 12, 12]`\n",
    "\n",
    "  Output: 10\n",
    "\n",
    "  ### Example 3\n",
    "\n",
    "  ![](./images/q1_ex3.png)\n",
    "\n",
    "  Input: `root = [10, 9, 8, 7]`\n",
    "\n",
    "  Output: -1\n",
    "\n",
    "</details>\n",
    "\n",
    "#### Starter Code for Question 1"
   ]
  },
  {
   "cell_type": "code",
   "execution_count": 202,
   "metadata": {},
   "outputs": [],
   "source": [
    "# Definition for a binary tree node.\n",
    "# import collections\n",
    "# class TreeNode(object):\n",
    "#      def __init__(self, val = 0, left = None, right = None):\n",
    "#         self.val = val\n",
    "#         self.left = left\n",
    "#         self.right = right\n",
    "\n",
    "# def is_duplicate(root: TreeNode) -> int:\n",
    "#     queue = collections.deque([root])\n",
    "#     visited = set()\n",
    "\n",
    "#     while queue:\n",
    "#         node = queue.popleft()\n",
    "\n",
    "#         if node.val in visited:\n",
    "#             return node.val\n",
    "#         else:\n",
    "#           visited.add(node.val)\n",
    "        \n",
    "#         if node.left:\n",
    "#             queue.append(node.left)\n",
    "#         if node.right:\n",
    "#             queue.append(node.right)\n",
    "\n",
    "#     return -1"
   ]
  },
  {
   "cell_type": "code",
   "execution_count": 203,
   "metadata": {},
   "outputs": [
    {
     "name": "stdout",
     "output_type": "stream",
     "text": [
      "2\n"
     ]
    }
   ],
   "source": [
    "# Input: `root = [1, 2, 2, 3, 5, 6, 7]` *What traversal method is this?* Output: 2\n",
    "# root = TreeNode(1)\n",
    "# root.left = TreeNode(2)\n",
    "# root.right = TreeNode(2)\n",
    "# root.left.left = TreeNode(3)\n",
    "# root.left.right = TreeNode(5)\n",
    "# root.right.left = TreeNode(6)\n",
    "# root.right.right = TreeNode(7)\n",
    "\n",
    "# print(is_duplicate(root))"
   ]
  },
  {
   "cell_type": "code",
   "execution_count": 204,
   "metadata": {},
   "outputs": [
    {
     "name": "stdout",
     "output_type": "stream",
     "text": [
      "10\n"
     ]
    }
   ],
   "source": [
    "# Input: `root = [1, 10, 2, 3, 10, 12, 12]`   Output: 10 \n",
    "# root = TreeNode(1)\n",
    "# root.left = TreeNode(10)\n",
    "# root.right = TreeNode(2)\n",
    "# root.left.left = TreeNode(3)\n",
    "# root.left.right = TreeNode(10)\n",
    "# root.right.left = TreeNode(12)\n",
    "# root.right.right = TreeNode(12)\n",
    "\n",
    "# print(is_duplicate(root))"
   ]
  },
  {
   "cell_type": "code",
   "execution_count": 205,
   "metadata": {},
   "outputs": [
    {
     "name": "stdout",
     "output_type": "stream",
     "text": [
      "-1\n"
     ]
    }
   ],
   "source": [
    "# Input: `root = [10, 9, 8, 7]` Output: -1\n",
    "\n",
    "# root = TreeNode(10)\n",
    "# root.left = TreeNode(9)\n",
    "# root.right = TreeNode(8)\n",
    "# root.left.left = TreeNode(7)\n",
    "\n",
    "\n",
    "# print(is_duplicate(root))"
   ]
  },
  {
   "cell_type": "markdown",
   "metadata": {},
   "source": [
    "<details>\n",
    "  <summary>Question 2</summary>\n",
    "\n",
    "  # Question Two: Path to Leaves\n",
    "\n",
    "  Given the `root` of a binary tree, return all root to leaf paths in any order.\n",
    "\n",
    "  ## Examples\n",
    "\n",
    "  ### Example 1\n",
    "\n",
    "  ![](./images/q1_ex1.png)\n",
    "\n",
    "  Input: `root = [1, 2, 2, 3, 5, 6, 7]` *What traversal method is this?*\n",
    "\n",
    "  Output: [[1, 2, 3], [1, 2, 5], [1, 2, 6], [1, 2, 7]]\n",
    "\n",
    "  ### Example 2\n",
    "\n",
    "  ![](./images/q1_ex3.png)\n",
    "\n",
    "  Input: `root = [10, 9, 7, 8]`\n",
    "\n",
    "  Output: [[10, 7], [10, 9, 8]]\n",
    "\n",
    "</details>\n",
    "\n",
    "#### Starter Code for Question 2"
   ]
  },
  {
   "cell_type": "code",
   "execution_count": 206,
   "metadata": {},
   "outputs": [],
   "source": [
    "# Definition for a binary tree node.\n",
    "# from typing import List\n",
    "# class TreeNode(object):\n",
    "#      def __init__(self, val = 0, left = None, right = None):\n",
    "#         self.val = val\n",
    "#         self.left = left\n",
    "#         self.right = right\n",
    "\n",
    "\n",
    "# def bt_path(root: TreeNode) -> List[List[int]]:\n",
    "#   all_paths = []\n",
    "#   node_path = []\n",
    "#   get_paths(root, node_path, all_paths)\n",
    "#   return all_paths\n",
    "\n",
    "# # Function to get List of paths for each node in tree. We are using DFS \n",
    "# def get_paths(node, node_path, all_paths):\n",
    "#     if node is None:\n",
    "#         return\n",
    "#     # Append this node to the path\n",
    "#     node_path.append(node.val)\n",
    "\n",
    "#     # If it's a leaf node, store the path\n",
    "#     if node.left is None and node.right is None:\n",
    "#         all_paths.append(list(node_path))\n",
    "#     else:\n",
    "#         # Otherwise, try both subtrees\n",
    "#         get_paths(node.left, node_path, all_paths)\n",
    "#         get_paths(node.right, node_path, all_paths)\n",
    "\n",
    "#     # Backtrack: remove the last element from the path\n",
    "#     node_path.pop()\n",
    "\n"
   ]
  },
  {
   "cell_type": "markdown",
   "metadata": {},
   "source": [
    "### Example 1\n",
    "\n",
    "  ![](./images/q1_ex1.png)\n",
    "\n",
    "  Input: `root = [1, 2, 2, 3, 5, 6, 7]` *What traversal method is this?*\n",
    "\n",
    "  Output: [[1, 2, 3], [1, 2, 5], [1, 2, 6], [1, 2, 7]]"
   ]
  },
  {
   "cell_type": "code",
   "execution_count": 207,
   "metadata": {},
   "outputs": [
    {
     "data": {
      "text/plain": [
       "[[1, 2, 3], [1, 2, 5], [1, 2, 6], [1, 2, 7]]"
      ]
     },
     "execution_count": 207,
     "metadata": {},
     "output_type": "execute_result"
    }
   ],
   "source": [
    "# root = TreeNode(1)\n",
    "# root.left = TreeNode(2)\n",
    "# root.right = TreeNode(2)\n",
    "# root.left.left = TreeNode(3)\n",
    "# root.left.right = TreeNode(5)\n",
    "# root.right.left = TreeNode(6)\n",
    "# root.right.right = TreeNode(7)\n",
    "# bt_path(root)"
   ]
  },
  {
   "cell_type": "markdown",
   "metadata": {},
   "source": [
    "### Example 2\n",
    "\n",
    "  ![](./images/q1_ex3.png)\n",
    "\n",
    "  Input: `root = [10, 9, 7, 8]`\n",
    "\n",
    "  Output: [[10, 7], [10, 9, 8]]"
   ]
  },
  {
   "cell_type": "code",
   "execution_count": 208,
   "metadata": {},
   "outputs": [
    {
     "data": {
      "text/plain": [
       "[[10, 9, 8], [10, 7]]"
      ]
     },
     "execution_count": 208,
     "metadata": {},
     "output_type": "execute_result"
    }
   ],
   "source": [
    "# root = TreeNode(10)\n",
    "# root.left = TreeNode(9)\n",
    "# root.right = TreeNode(7)\n",
    "# root.left.left = TreeNode(8)\n",
    "\n",
    "# bt_path(root)"
   ]
  },
  {
   "cell_type": "markdown",
   "metadata": {},
   "source": [
    "<details>\n",
    "  <summary>Question 3</summary>\n",
    "\n",
    "  # Question Three: Missing Number in Range\n",
    " \n",
    "  You are given a list containing `n` integers in the range `[0, n]`. Return a list of numbers that are missing from the range `[0, n]` of the array. If there is no missing number, return -1. Note, all the integers in the list may not be unique.\n",
    "  \n",
    "  ## Examples\n",
    "\n",
    "  ### Example 1\n",
    "\n",
    "  Input: `lst = [0, 2]`\n",
    "\n",
    "  Output: [1]\n",
    "\n",
    "  ### Example 2\n",
    "\n",
    "  Input: `lst = [5, 0, 1]`\n",
    "\n",
    "  Output: [2, 3, 4]\n",
    "\n",
    "  ### Example 3\n",
    "\n",
    "  Input: `lst = [6, 8, 2, 3, 5, 7, 0, 1, 10]`\n",
    "\n",
    "  Output: [4, 9]\n",
    "\n",
    "</details>\n",
    "\n",
    "#### Starter Code for Question 3\n"
   ]
  },
  {
   "cell_type": "code",
   "execution_count": 209,
   "metadata": {},
   "outputs": [],
   "source": [
    "def missingNumber(nums: List[int]) -> int:\n",
    "    #To Do \n",
    "    return None"
   ]
  },
  {
   "cell_type": "markdown",
   "metadata": {},
   "source": [
    "\n",
    "## Part 2:\n",
    "\n",
    "-   Paraphrase the problem in your own words\n"
   ]
  },
  {
   "cell_type": "markdown",
   "metadata": {},
   "source": [
    "### Your answer here\n",
    "### My understanding of the problem description for Question 3 \"Missing numbers in a given range\" - \n",
    "    - Given an array nums containing n distinct numbers in the range [0, n], return the all numbers in the range that are missing from the array.\n",
    "    - For example given list [1,4,6] the range is from 1 to 6 find if all numbers between 1 to 6 are available on the list. If not then report those missing numbers.\n",
    "    - This requires to find the range lower bound and upper bound.\n",
    "    - List can include duplicates. Nice to have a data with no duplicates. We can use Set as Set is an unordered collection of data type that is iterable, mutable, and has no duplicate elements. \n",
    "    - The major advantage of using a set, as opposed to a list, is that it has a highly optimized method for checking whether a specific element is contained in the set. \n",
    "\n"
   ]
  },
  {
   "cell_type": "markdown",
   "metadata": {},
   "source": [
    "- In this .ipynb file, there are examples that illustrate how the code should work (the examples provided above). Create 2 new examples for the question you have been assigned, that demonstrate you understand the problem. For question 1 and 2, you don't need to create the tree demonstration, just the input and output.\n"
   ]
  },
  {
   "cell_type": "markdown",
   "metadata": {},
   "source": [
    "### Your answer here\n",
    " #### Handling duplicates \n",
    "    Input : [6, 8, 2, 3, 5, 7, 0, 1, 10,6, 7]  output : [4, 9]\n",
    " #### No number missing\n",
    "    Input : [0,2,4,3,1] output : [-1] \n",
    " #### negative number missing\n",
    "    Input : [0,-2,4,3,1] output : [-1,2] "
   ]
  },
  {
   "cell_type": "markdown",
   "metadata": {},
   "source": [
    "\n",
    "-   Code the solution to your assigned problem in Python (code chunk). Try to find the best time and space complexity solution!\n"
   ]
  },
  {
   "cell_type": "code",
   "execution_count": 210,
   "metadata": {},
   "outputs": [],
   "source": [
    "def missingNumber(nums: List[int]) -> int:\n",
    "    nums_set = set(nums) # un-Ordered  set of integers  with no duplicates\n",
    "    missing_number = []\n",
    "    lower_range = min(nums_set) # start for range\n",
    "    upper_range = max(nums_set) # end for range\n",
    "    for number in range(lower_range, upper_range): # Range between min and max of set\n",
    "        if number not in nums_set: # Check if number is not present in set then add to missing number list\n",
    "            missing_number.append(number)\n",
    "    \n",
    "    return missing_number if len(missing_number) > 0 else -1 # if no number is missing return -1 else return the list\n",
    "   \n",
    "\n"
   ]
  },
  {
   "cell_type": "code",
   "execution_count": 211,
   "metadata": {},
   "outputs": [
    {
     "name": "stdout",
     "output_type": "stream",
     "text": [
      "Missing number :  [1]\n"
     ]
    }
   ],
   "source": [
    "print(\"Missing number : \", missingNumber([0,2]))"
   ]
  },
  {
   "cell_type": "code",
   "execution_count": 212,
   "metadata": {},
   "outputs": [
    {
     "name": "stdout",
     "output_type": "stream",
     "text": [
      "Missing number :  [4, 9]\n"
     ]
    }
   ],
   "source": [
    "print(\"Missing number : \", missingNumber([6, 8, 2, 3, 5, 7, 0, 1, 10]))"
   ]
  },
  {
   "cell_type": "code",
   "execution_count": 213,
   "metadata": {},
   "outputs": [
    {
     "name": "stdout",
     "output_type": "stream",
     "text": [
      "Missing number :  [4, 9]\n"
     ]
    }
   ],
   "source": [
    "print(\"Missing number : \", missingNumber([6, 8, 2, 3, 5, 7, 0, 1, 10,6, 7] )) # Duplicates numbers in input list"
   ]
  },
  {
   "cell_type": "code",
   "execution_count": 214,
   "metadata": {},
   "outputs": [
    {
     "name": "stdout",
     "output_type": "stream",
     "text": [
      "Missing number :  -1\n"
     ]
    }
   ],
   "source": [
    "print(\"Missing number : \", missingNumber([0,2,4,3,1])) # No missing number in the given range"
   ]
  },
  {
   "cell_type": "code",
   "execution_count": 215,
   "metadata": {},
   "outputs": [
    {
     "name": "stdout",
     "output_type": "stream",
     "text": [
      "Missing number :  [-1, 2]\n"
     ]
    }
   ],
   "source": [
    "print(\"Missing number : \", missingNumber([0,-2,4,3,1])) # Negative number range"
   ]
  },
  {
   "cell_type": "markdown",
   "metadata": {},
   "source": [
    "### Time complexity: O(n)\n",
    "The main loop runs in O(n) time\n",
    "creating nums_set and inserting elements costs O(n)\n",
    "overall runtime O(n + n) -> O(n)\n",
    "### Space complexity: O(n)"
   ]
  },
  {
   "cell_type": "markdown",
   "metadata": {},
   "source": [
    "\n",
    "-   Explain why your solution works\n"
   ]
  },
  {
   "cell_type": "markdown",
   "metadata": {},
   "source": [
    "# Your answer here\n",
    "#### function missingNumbers takes input of list of integer and following steps are executed inside this function -\n",
    "    Step 1 : We create set from nums list.\n",
    "    Step 2 : We find minimum item in set\n",
    "    Step 3 : We find maximum value item in set\n",
    "    Step 4 : We loop through range from minimum element to maximum element in the set\n",
    "    Step 5 : For each number we check if the number is present in set or not.\n",
    "    Step 6 : If number is not present in set then add this number in missing_number list.\n",
    "    Step 7 : return the missing_number list if it has element. If its empty then return -1 \n",
    "    \n",
    "    Using set has various benefits in solving this problem \n",
    "        1) Removing duplicates \n",
    "        2) We can find min and max for our loop range and finally\n",
    "        3) using a set, as opposed to a list has some advantage ie it has a highly optimized method for checking whether a specific element is contained in the set. "
   ]
  },
  {
   "cell_type": "markdown",
   "metadata": {},
   "source": [
    "\n",
    "-   Explain the problem’s time and space complexity\n"
   ]
  },
  {
   "cell_type": "markdown",
   "metadata": {},
   "source": [
    "### Your answer here\n",
    "#### Time Complexity:\n",
    "1. Creating a set from the list `nums` takes O(n) time, where n is the number of elements in `nums`.\n",
    "2. Finding the minimum and maximum values in the set also takes O(n) time in the worst case, as it may need to iterate through all elements.\n",
    "3. The loop that checks for missing numbers runs from the minimum to the maximum value, which could be up to O(m) iterations, where m is the range of numbers between the minimum and maximum. In the worst case, if the range is large compared to n, this could lead to O(m) time complexity.\n",
    "4. Checking membership in the set (i.e., `number not in nums_set`) is O(1) on average due to the properties of sets.\n",
    "\n",
    "Overall, the time complexity can be expressed as O(n + m), where n is the number of elements in the input list and m is the range of numbers between the minimum and maximum values.\n",
    "\n",
    "#### Space Complexity:\n",
    "1. The space complexity is primarily determined by the space used to store the set `nums_set`, which takes O(n) space.\n",
    "2. Additionally, the `missing_number` list can take up to O(m) space in the worst case if all numbers in the range are missing.\n",
    "\n",
    "Thus, the overall space complexity is O(n + m), where n is the number of elements in the input list and m is the range of numbers between the minimum and maximum values."
   ]
  },
  {
   "cell_type": "markdown",
   "metadata": {},
   "source": [
    "\n",
    "-   Explain the thinking to an alternative solution (no coding required, but a classmate reading this should be able to code it up based off your text)\n"
   ]
  },
  {
   "cell_type": "code",
   "execution_count": 218,
   "metadata": {},
   "outputs": [],
   "source": [
    "# Your answer here"
   ]
  },
  {
   "cell_type": "markdown",
   "metadata": {},
   "source": [
    "## Evaluation Criteria\n",
    "\n",
    "-   Problem is accurately stated\n",
    "\n",
    "-   Two examples are correct and easily understandable\n",
    "\n",
    "-   Correctness, time, and space complexity of the coding solution\n",
    "\n",
    "-   Clarity in explaining why the solution works, its time and space complexity\n",
    "\n",
    "-   Clarity in the proposal to the alternative solution"
   ]
  },
  {
   "cell_type": "markdown",
   "metadata": {},
   "source": [
    "## Submission Information\n",
    "\n",
    "🚨 **Please review our [Assignment Submission Guide](https://github.com/UofT-DSI/onboarding/blob/main/onboarding_documents/submissions.md)** 🚨 for detailed instructions on how to format, branch, and submit your work. Following these guidelines is crucial for your submissions to be evaluated correctly.\n",
    "\n",
    "### Submission Parameters:\n",
    "* Submission Due Date: `HH:MM AM/PM - DD/MM/YYYY`\n",
    "* The branch name for your repo should be: `assignment-1`\n",
    "* What to submit for this assignment:\n",
    "    * This Jupyter Notebook (assignment_1.ipynb) should be populated and should be the only change in your pull request.\n",
    "* What the pull request link should look like for this assignment: `https://github.com/<your_github_username>/algorithms_and_data_structures/pull/<pr_id>`\n",
    "    * Open a private window in your browser. Copy and paste the link to your pull request into the address bar. Make sure you can see your pull request properly. This helps the technical facilitator and learning support staff review your submission easily.\n",
    "\n",
    "Checklist:\n",
    "- [ ] Create a branch called `assignment-1`.\n",
    "- [ ] Ensure that the repository is public.\n",
    "- [ ] Review [the PR description guidelines](https://github.com/UofT-DSI/onboarding/blob/main/onboarding_documents/submissions.md#guidelines-for-pull-request-descriptions) and adhere to them.\n",
    "- [ ] Verify that the link is accessible in a private browser window.\n",
    "\n",
    "If you encounter any difficulties or have questions, please don't hesitate to reach out to our team via our Slack at `#cohort-3-help`. Our Technical Facilitators and Learning Support staff are here to help you navigate any challenges."
   ]
  }
 ],
 "metadata": {
  "kernelspec": {
   "display_name": "dsi_participant",
   "language": "python",
   "name": "python3"
  },
  "language_info": {
   "codemirror_mode": {
    "name": "ipython",
    "version": 3
   },
   "file_extension": ".py",
   "mimetype": "text/x-python",
   "name": "python",
   "nbconvert_exporter": "python",
   "pygments_lexer": "ipython3",
   "version": "3.9.19"
  }
 },
 "nbformat": 4,
 "nbformat_minor": 2
}
