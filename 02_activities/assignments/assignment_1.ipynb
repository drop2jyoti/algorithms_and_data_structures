{
 "cells": [
  {
   "cell_type": "markdown",
   "metadata": {},
   "source": [
    "# Coding Problems\n",
    "\n",
    "## Objective\n",
    "\n",
    "This assignment aims to demonstrate how to study a data structures or algorithms question in depth to prepare for an industry coding interview. Leetcode is a popular coding practice site that many use to practice for technical interviews. Like behavioral interviews, it's important to practice and keep your skills sharp.\n",
    "\n",
    "## Group Size\n",
    "\n",
    "Please complete this individually.\n",
    "\n",
    "## Part 1:\n",
    "\n",
    "_*You will be assigned one of three problems based of your first name. Execute the code below, and that will tell you your assigned problem. Include the output as part of your submission (do not clear the output). The problems are based-off problems from Leetcode.*_\n"
   ]
  },
  {
   "cell_type": "code",
   "execution_count": 55,
   "metadata": {},
   "outputs": [
    {
     "name": "stdout",
     "output_type": "stream",
     "text": [
      "1\n"
     ]
    }
   ],
   "source": [
    "print((hash('Jyoti Narang') % 3) + 1)"
   ]
  },
  {
   "cell_type": "markdown",
   "metadata": {},
   "source": [
    "<details>\n",
    "  <summary>Question 1</summary>\n",
    "\n",
    "  # Question One: Check Duplicates in Tree\n",
    "\n",
    "  Given the `root` of a binary tree, check whether it is contains a duplicate value. If a duplicate exists, return the duplicate value. If there are multiple duplicates, return the one with the closest distance to the root. If no duplicate exists, return -1.\n",
    "\n",
    "  ## Examples\n",
    "\n",
    "  ### Example 1\n",
    "\n",
    "  ![](./images/q1_ex1.png)\n",
    "\n",
    "  Input: `root = [1, 2, 2, 3, 5, 6, 7]` *What traversal method is this?*\n",
    "\n",
    "  Output: 2\n",
    "\n",
    "  ### Example 2\n",
    "\n",
    "  ![](./images/q1_ex2.png)\n",
    "\n",
    "  Input: `root = [1, 10, 2, 3, 10, 12, 12]`\n",
    "\n",
    "  Output: 10\n",
    "\n",
    "  ### Example 3\n",
    "\n",
    "  ![](./images/q1_ex3.png)\n",
    "\n",
    "  Input: `root = [10, 9, 8, 7]`\n",
    "\n",
    "  Output: -1\n",
    "\n",
    "</details>\n",
    "\n",
    "#### Starter Code for Question 1"
   ]
  },
  {
   "cell_type": "code",
   "execution_count": 56,
   "metadata": {},
   "outputs": [],
   "source": [
    "# Definition for a binary tree node.\n",
    "# import collections\n",
    "# class TreeNode(object):\n",
    "#      def __init__(self, val = 0, left = None, right = None):\n",
    "#         self.val = val\n",
    "#         self.left = left\n",
    "#         self.right = right\n",
    "\n",
    "# def is_duplicate(root: TreeNode) -> int:\n",
    "#     queue = collections.deque([root])\n",
    "#     visited = set()\n",
    "\n",
    "#     while queue:\n",
    "#         node = queue.popleft()\n",
    "\n",
    "#         if node.val in visited:\n",
    "#             return node.val\n",
    "#         else:\n",
    "#           visited.add(node.val)\n",
    "        \n",
    "#         if node.left:\n",
    "#             queue.append(node.left)\n",
    "#         if node.right:\n",
    "#             queue.append(node.right)\n",
    "\n",
    "#     return -1"
   ]
  },
  {
   "cell_type": "code",
   "execution_count": 57,
   "metadata": {},
   "outputs": [],
   "source": [
    "# Input: `root = [1, 2, 2, 3, 5, 6, 7]` *What traversal method is this?* Output: 2\n",
    "# root = TreeNode(1)\n",
    "# root.left = TreeNode(2)\n",
    "# root.right = TreeNode(2)\n",
    "# root.left.left = TreeNode(3)\n",
    "# root.left.right = TreeNode(5)\n",
    "# root.right.left = TreeNode(6)\n",
    "# root.right.right = TreeNode(7)\n",
    "\n",
    "# print(is_duplicate(root))"
   ]
  },
  {
   "cell_type": "code",
   "execution_count": 58,
   "metadata": {},
   "outputs": [],
   "source": [
    "# Input: `root = [1, 10, 2, 3, 10, 12, 12]`   Output: 10 \n",
    "# root = TreeNode(1)\n",
    "# root.left = TreeNode(10)\n",
    "# root.right = TreeNode(2)\n",
    "# root.left.left = TreeNode(3)\n",
    "# root.left.right = TreeNode(10)\n",
    "# root.right.left = TreeNode(12)\n",
    "# root.right.right = TreeNode(12)\n",
    "\n",
    "# print(is_duplicate(root))"
   ]
  },
  {
   "cell_type": "code",
   "execution_count": 59,
   "metadata": {},
   "outputs": [],
   "source": [
    "# Input: `root = [10, 9, 8, 7]` Output: -1\n",
    "\n",
    "# root = TreeNode(10)\n",
    "# root.left = TreeNode(9)\n",
    "# root.right = TreeNode(8)\n",
    "# root.left.left = TreeNode(7)\n",
    "\n",
    "\n",
    "# print(is_duplicate(root))"
   ]
  },
  {
   "cell_type": "markdown",
   "metadata": {},
   "source": [
    "<details>\n",
    "  <summary>Question 2</summary>\n",
    "\n",
    "  # Question Two: Path to Leaves\n",
    "\n",
    "  Given the `root` of a binary tree, return all root to leaf paths in any order.\n",
    "\n",
    "  ## Examples\n",
    "\n",
    "  ### Example 1\n",
    "\n",
    "  ![](./images/q1_ex1.png)\n",
    "\n",
    "  Input: `root = [1, 2, 2, 3, 5, 6, 7]` *What traversal method is this?*\n",
    "\n",
    "  Output: [[1, 2, 3], [1, 2, 5], [1, 2, 6], [1, 2, 7]]\n",
    "\n",
    "  ### Example 2\n",
    "\n",
    "  ![](./images/q1_ex3.png)\n",
    "\n",
    "  Input: `root = [10, 9, 7, 8]`\n",
    "\n",
    "  Output: [[10, 7], [10, 9, 8]]\n",
    "\n",
    "</details>\n",
    "\n",
    "#### Starter Code for Question 2"
   ]
  },
  {
   "cell_type": "code",
   "execution_count": 60,
   "metadata": {},
   "outputs": [],
   "source": [
    "# Definition for a binary tree node.\n",
    "# from typing import List\n",
    "# class TreeNode(object):\n",
    "#      def __init__(self, val = 0, left = None, right = None):\n",
    "#         self.val = val\n",
    "#         self.left = left\n",
    "#         self.right = right\n",
    "\n",
    "\n",
    "# def bt_path(root: TreeNode) -> List[List[int]]:\n",
    "#   all_paths = []\n",
    "#   node_path = []\n",
    "#   get_paths(root, node_path, all_paths)\n",
    "#   return all_paths\n",
    "\n",
    "# # Function to get List of paths for each node in tree. We are using DFS \n",
    "# def get_paths(node, node_path, all_paths):\n",
    "#     if node is None:\n",
    "#         return\n",
    "#     # Append this node to the path\n",
    "#     node_path.append(node.val)\n",
    "\n",
    "#     # If it's a leaf node, store the path\n",
    "#     if node.left is None and node.right is None:\n",
    "#         all_paths.append(list(node_path))\n",
    "#     else:\n",
    "#         # Otherwise, try both subtrees\n",
    "#         get_paths(node.left, node_path, all_paths)\n",
    "#         get_paths(node.right, node_path, all_paths)\n",
    "\n",
    "#     # Backtrack: remove the last element from the path\n",
    "#     node_path.pop()\n",
    "\n"
   ]
  },
  {
   "cell_type": "markdown",
   "metadata": {},
   "source": [
    "### Example 1\n",
    "\n",
    "  ![](./images/q1_ex1.png)\n",
    "\n",
    "  Input: `root = [1, 2, 2, 3, 5, 6, 7]` *What traversal method is this?*\n",
    "\n",
    "  Output: [[1, 2, 3], [1, 2, 5], [1, 2, 6], [1, 2, 7]]"
   ]
  },
  {
   "cell_type": "code",
   "execution_count": 61,
   "metadata": {},
   "outputs": [],
   "source": [
    "# root = TreeNode(1)\n",
    "# root.left = TreeNode(2)\n",
    "# root.right = TreeNode(2)\n",
    "# root.left.left = TreeNode(3)\n",
    "# root.left.right = TreeNode(5)\n",
    "# root.right.left = TreeNode(6)\n",
    "# root.right.right = TreeNode(7)\n",
    "# bt_path(root)"
   ]
  },
  {
   "cell_type": "markdown",
   "metadata": {},
   "source": [
    "### Example 2\n",
    "\n",
    "  ![](./images/q1_ex3.png)\n",
    "\n",
    "  Input: `root = [10, 9, 7, 8]`\n",
    "\n",
    "  Output: [[10, 7], [10, 9, 8]]"
   ]
  },
  {
   "cell_type": "code",
   "execution_count": 62,
   "metadata": {},
   "outputs": [],
   "source": [
    "# root = TreeNode(10)\n",
    "# root.left = TreeNode(9)\n",
    "# root.right = TreeNode(7)\n",
    "# root.left.left = TreeNode(8)\n",
    "\n",
    "# bt_path(root)"
   ]
  },
  {
   "cell_type": "markdown",
   "metadata": {},
   "source": [
    "<details>\n",
    "  <summary>Question 3</summary>\n",
    "\n",
    "  # Question Three: Missing Number in Range\n",
    " \n",
    "  You are given a list containing `n` integers in the range `[0, n]`. Return a list of numbers that are missing from the range `[0, n]` of the array. If there is no missing number, return -1. Note, all the integers in the list may not be unique.\n",
    "  \n",
    "  ## Examples\n",
    "\n",
    "  ### Example 1\n",
    "\n",
    "  Input: `lst = [0, 2]`\n",
    "\n",
    "  Output: [1]\n",
    "\n",
    "  ### Example 2\n",
    "\n",
    "  Input: `lst = [5, 0, 1]`\n",
    "\n",
    "  Output: [2, 3, 4]\n",
    "\n",
    "  ### Example 3\n",
    "\n",
    "  Input: `lst = [6, 8, 2, 3, 5, 7, 0, 1, 10]`\n",
    "\n",
    "  Output: [4, 9]\n",
    "\n",
    "</details>\n",
    "\n",
    "#### Starter Code for Question 3\n"
   ]
  },
  {
   "cell_type": "code",
   "execution_count": 63,
   "metadata": {},
   "outputs": [],
   "source": [
    "def missingNumber(nums: List[int]) -> int:\n",
    "    #To Do \n",
    "    return None"
   ]
  },
  {
   "cell_type": "markdown",
   "metadata": {},
   "source": [
    "\n",
    "## Part 2:\n",
    "\n",
    "###  Paraphrase the problem in your own words\n"
   ]
  },
  {
   "cell_type": "markdown",
   "metadata": {},
   "source": [
    "##### Your answer here\n",
    "##### My understanding of the problem description for Question 3 \"Missing numbers in a given range\" - \n",
    "    - Given an array nums containing n distinct numbers in the range [0, n], return the all numbers in the range that are missing from the array.\n",
    "    - For example given list [1,4,6] the range is from 1 to 6 find if all numbers between 1 to 6 are available on the list. If not then report those missing numbers.\n",
    "    - This requires to find the range lower bound and upper bound.\n",
    "    - List can include duplicates. Nice to have a data with no duplicates. We can use Set as Set is an unordered collection of data type that is iterable, mutable, and has no duplicate elements. \n",
    "    - The major advantage of using a set, as opposed to a list, is that it has a highly optimized method for checking whether a specific element is contained in the set. \n",
    "\n"
   ]
  },
  {
   "cell_type": "markdown",
   "metadata": {},
   "source": [
    "### In this .ipynb file, there are examples that illustrate how the code should work (the examples provided above). Create 2 new examples for the question you have been assigned, that demonstrate you understand the problem. For question 1 and 2, you don't need to create the tree demonstration, just the input and output.\n"
   ]
  },
  {
   "cell_type": "markdown",
   "metadata": {},
   "source": [
    "### Your answer here\n",
    " #### Handling duplicates \n",
    "    Input : [6, 8, 2, 3, 5, 7, 0, 1, 10,6, 7]  output : [4, 9]\n",
    " #### No number missing\n",
    "    Input : [0,2,4,3,1] output : [-1] \n",
    " #### negative number missing\n",
    "    Input : [0,-2,4,3,1] output : [-1,2] "
   ]
  },
  {
   "cell_type": "markdown",
   "metadata": {},
   "source": [
    "\n",
    "### Code the solution to your assigned problem in Python (code chunk). Try to find the best time and space complexity solution!\n"
   ]
  },
  {
   "cell_type": "code",
   "execution_count": 64,
   "metadata": {},
   "outputs": [],
   "source": [
    "from typing import List\n",
    "\n",
    "def missingNumber(nums: List[int]) -> List[int]:\n",
    "    if not nums:  # Handle empty list\n",
    "        return [-1]\n",
    "    \n",
    "    nums_set = set(nums)\n",
    "    lower_range = min(nums_set)\n",
    "    upper_range = max(nums_set)\n",
    "\n",
    "    # Create a list of all numbers in the range that are not in nums_set\n",
    "    missing_numbers = [number for number in range(lower_range, upper_range + 1) if number not in nums_set]\n",
    "    \n",
    "    # Return missing numbers or [-1] if none are found\n",
    "    return missing_numbers if missing_numbers else [-1]"
   ]
  },
  {
   "cell_type": "code",
   "execution_count": 65,
   "metadata": {},
   "outputs": [
    {
     "name": "stdout",
     "output_type": "stream",
     "text": [
      "Missing number :  [1]\n"
     ]
    }
   ],
   "source": [
    "print(\"Missing number : \", missingNumber([0,2]))"
   ]
  },
  {
   "cell_type": "code",
   "execution_count": 66,
   "metadata": {},
   "outputs": [
    {
     "name": "stdout",
     "output_type": "stream",
     "text": [
      "Missing number :  [4, 9]\n"
     ]
    }
   ],
   "source": [
    "print(\"Missing number : \", missingNumber([6, 8, 2, 3, 5, 7, 0, 1, 10]))"
   ]
  },
  {
   "cell_type": "code",
   "execution_count": 67,
   "metadata": {},
   "outputs": [
    {
     "name": "stdout",
     "output_type": "stream",
     "text": [
      "Missing number :  [4, 9]\n"
     ]
    }
   ],
   "source": [
    "print(\"Missing number : \", missingNumber([6, 8, 2, 3, 5, 7, 0, 1, 10,6, 7] )) # Duplicates numbers in input list"
   ]
  },
  {
   "cell_type": "code",
   "execution_count": 68,
   "metadata": {},
   "outputs": [
    {
     "name": "stdout",
     "output_type": "stream",
     "text": [
      "Missing number :  [-1]\n"
     ]
    }
   ],
   "source": [
    "print(\"Missing number : \", missingNumber([0,2,4,3,1])) # No missing number in the given range"
   ]
  },
  {
   "cell_type": "code",
   "execution_count": 69,
   "metadata": {},
   "outputs": [
    {
     "name": "stdout",
     "output_type": "stream",
     "text": [
      "Missing number :  [-1, 2]\n"
     ]
    }
   ],
   "source": [
    "print(\"Missing number : \", missingNumber([0,-2,4,3,1])) # Negative number range"
   ]
  },
  {
   "cell_type": "code",
   "execution_count": null,
   "metadata": {},
   "outputs": [
    {
     "name": "stdout",
     "output_type": "stream",
     "text": [
      "Missing numer : [-1]\n"
     ]
    }
   ],
   "source": [
    "print(\"Missing numer :\", missingNumber([])) # Test edge case for empty list"
   ]
  },
  {
   "cell_type": "code",
   "execution_count": null,
   "metadata": {},
   "outputs": [
    {
     "name": "stdout",
     "output_type": "stream",
     "text": [
      "Missing numer : [-1]\n"
     ]
    }
   ],
   "source": [
    "print(\"Missing numer :\", missingNumber([1])) # Test edge case for list with only 1 element"
   ]
  },
  {
   "cell_type": "markdown",
   "metadata": {},
   "source": [
    "##### Time complexity: O(n)\n",
    "    The main loop runs in O(n) time\n",
    "    creating nums_set and inserting elements costs O(n)\n",
    "    overall runtime O(n + n) -> O(n)\n",
    "##### Space complexity: O(n)"
   ]
  },
  {
   "cell_type": "markdown",
   "metadata": {},
   "source": [
    "\n",
    "### Explain why your solution works\n"
   ]
  },
  {
   "cell_type": "markdown",
   "metadata": {},
   "source": [
    "##### Your answer here\n",
    "##### function missingNumbers takes input of list of integer and following steps are executed inside this function -\n",
    " 1) check for empty list or list with only one item - return [1] without processing further\n",
    " 2) If list is not empty or list length is more than 1 follow -\n",
    "\n",
    "    Step 1 : We create set from nums list.\n",
    "\n",
    "    Step 2 : We find minimum item in set\n",
    "\n",
    "    Step 3 : We find maximum value item in set\n",
    "\n",
    "    Step 4 : We loop through range from minimum element to maximum +1 element in the set\n",
    "\n",
    "    Step 5 : For each number we check if the number is present in set or not.\n",
    "\n",
    "    Step 6 : If number is not present in set then add this number in missing_number list.\n",
    "\n",
    "    Step 7 : return the missing_number list if it has element. If its empty then return -1 \n",
    "\n",
    "\n",
    "    \n",
    "    Using set has various benefits in solving this problem \n",
    "\n",
    "        1) Removing duplicates \n",
    "\n",
    "        2) We can find min and max for our loop range and finally\n",
    "\n",
    "        3) using a set, as opposed to a list has some advantage ie it has a highly optimized method for checking whether a specific element is contained in the set. \n",
    "        \n",
    "        4) This solution works for both sorted and unsorted list.\n",
    "\n",
    "    \n",
    "    Consider example - input list : [6, 8, 2, 3, 5, 7, 0, 1, 10,6, 7] \n",
    "\n",
    "    1) Check lenght = 11 > 1\n",
    "    2) generate set = [6, 8, 2, 3, 5, 7, 0, 1, 10] \n",
    "    3) min = 0\n",
    "    4) max = 10\n",
    "    5) loop on range from 0 to 10+1 \n",
    "        - number = 0\n",
    "        - set has 0 \n",
    "        - number = 1\n",
    "        - set has 1\n",
    "        - number = 2\n",
    "        - set has 2\n",
    "        - number = 3\n",
    "        - set has 3\n",
    "        - number =4\n",
    "        - set has no 4\n",
    "        - add missing_numbers =[4]\n",
    "        - number =5\n",
    "        - set has 5\n",
    "        - number = 6\n",
    "        - set has 6\n",
    "        - number =7\n",
    "        - set has 7\n",
    "        - number = 8\n",
    "        - set has 8\n",
    "        - number = 9\n",
    "        - set has no 9\n",
    "        - add 9 missing_number =[4,9]\n",
    "        - number =10\n",
    "        - set has 10\n",
    "    loop ends\n",
    "    return missing_number =[4,9]"
   ]
  },
  {
   "cell_type": "markdown",
   "metadata": {},
   "source": [
    "\n",
    "### Explain the problem’s time and space complexity\n"
   ]
  },
  {
   "cell_type": "markdown",
   "metadata": {},
   "source": [
    "##### Your answer here\n",
    "The time complexity of the `missingNumber` function can be analyzed as follows:\n",
    "\n",
    "1. Converting the list `nums` to a set (`nums_set`) takes O(n) time, where n is the number of elements in `nums`.\n",
    "2. Finding the minimum and maximum values in the set takes O(m) time, where m is the number of unique elements in `nums_set`. In the worst case, m can be equal to n.\n",
    "3. The list comprehension that generates the `missing_numbers` list iterates over the range from `lower_range` to `upper_range`, which can take O(k) time, where k is the difference between the maximum and minimum values plus one (i.e., `upper_range - lower_range + 1`).\n",
    "\n",
    "In the worst-case scenario, if all numbers in the range are present in `nums`, the function will still iterate through the entire range, leading to a time complexity of O(n + k).\n",
    "\n",
    "The space complexity is as follows:\n",
    "\n",
    "1. The space used by `nums_set` is O(m), where m is the number of unique elements in `nums`.\n",
    "2. The `missing_numbers` list can take up to O(k) space in the worst case if all numbers in the range are missing.\n",
    "\n",
    "Thus, the overall space complexity is O(m + k). \n",
    "\n",
    "In summary:\n",
    "- Time Complexity: O(n + k)\n",
    "- Space Complexity: O(m + k)"
   ]
  },
  {
   "cell_type": "markdown",
   "metadata": {},
   "source": [
    "\n",
    "### Explain the thinking to an alternative solution (no coding required, but a classmate reading this should be able to code it up based off your text)\n"
   ]
  },
  {
   "cell_type": "markdown",
   "metadata": {},
   "source": [
    "**Alternative solution** \n",
    "\n",
    "Alternative solution can be finding the missing number using recurrsion. Following steps can be followed -\n",
    "\n",
    "    1) Create a new function `find_missing_numbers_in_range(nums_lst, start, end)`. This function accepts three arguments namely : nums_list ->  list of intgers, start -> minimum value in the given list, end -> maximum value in the given list.\n",
    "\n",
    "    2) Add a base condition checking if start > end then return empty list.\n",
    "\n",
    "    3) Add a check if start is not present in list then return the list containing the start ie [start] along with the recursion call 'find_missing(nums_lst, start+1, end)'. \n",
    "\n",
    "    4) Add a final return for case when start is present in list 'find_missing(nums_lst, start+1, end)'\n",
    "\n",
    "\n",
    "How to use 'find_missing_numbers_in_range' function ?\n",
    "\n",
    "After you have created this wonderful function , lets plug code in 'missingNumber'. This is what I think we should be done \n",
    "\n",
    "    1) Find min in the supplied nums list using min(nums). Store the value in variable 'start'. \n",
    "\n",
    "        start = min(nums)\n",
    "\n",
    "    2) Find max in supplied nums list using max(nums) and store the value in variable 'end'\n",
    "\n",
    "        end = max(nums)\n",
    "\n",
    "    3) invoke ind_missing_numbers_in_range(nums, start, end+1) and store the result in a variable 'missing'\n",
    "    \n",
    "    4) If every thing goes well , we must return this missing list from our missingNumbers functions. But before we do that, lets check if the len(missing) > 0 then return missing else return -1\n",
    "\n",
    "\n",
    "### Test base case -\n",
    "print(\"Missing number : \", missingNumber([0,2])) # should return Missing number :  [1]\n",
    "\n",
    "print(\"Missing number : \", missingNumber([6, 8, 2, 3, 5, 7, 0, 1, 10])) # should return Missing number :  [4, 9]\n",
    "\n",
    "### Test Duplicates numbers in input list\n",
    "print(\"Missing number : \", missingNumber([6, 8, 2, 3, 5, 7, 0, 1, 10,6, 7] )) # should return Missing number :  [4, 9]\n",
    "\n",
    "### Test when there are no missing number in the given range\n",
    "print(\"Missing number : \", missingNumber([0,2,4,3,1])) # should return Missing number : -1\n",
    "\n",
    "### Test Negative number range\n",
    "print(\"Missing number : \", missingNumber([0,-2,4,3,1]))  # should return Missing number : [-1,2]\n"
   ]
  },
  {
   "cell_type": "markdown",
   "metadata": {},
   "source": [
    "**Time and Space Complexities**\n",
    "\n",
    "**Time Complexity:**\n",
    "The time complexity of this function can be analyzed based on the number of recursive calls made. The function checks each integer from `start` to `end`. In the worst case, if all integers in the range are missing, the function will make `end - start + 1` recursive calls. Each call performs a constant amount of work (checking membership in the list and constructing the result). Therefore, the time complexity is O(n), where n is the number of integers in the range from `start` to `end`.\n",
    "\n",
    "**Space Complexity:**\n",
    "The space complexity is influenced by the recursion stack and the space used to store the result. The maximum depth of the recursion will be `end - start + 1`, which contributes to O(n) space in the worst case. Additionally, the function constructs a list of missing integers, which can also take up to O(n) space in the worst case if all integers are missing. Thus, the overall space complexity is O(n).\n",
    "\n",
    "In summary, both the time and space complexity of the function are O(n), where n is the number of integers in the range from `start` to `end`."
   ]
  },
  {
   "cell_type": "code",
   "execution_count": null,
   "metadata": {},
   "outputs": [],
   "source": [
    "def find_missing_numbers_in_range(nums_list, start, end):\n",
    "  if start > end:\n",
    "    return [-1]\n",
    "  if start not in nums_list:\n",
    "    return [start] + find_missing_numbers_in_range(nums_list, start + 1, end)\n",
    "  return find_missing_numbers_in_range(nums_list, start + 1, end)"
   ]
  },
  {
   "cell_type": "markdown",
   "metadata": {},
   "source": [
    "## Evaluation Criteria\n",
    "\n",
    "-   Problem is accurately stated\n",
    "\n",
    "-   Two examples are correct and easily understandable\n",
    "\n",
    "-   Correctness, time, and space complexity of the coding solution\n",
    "\n",
    "-   Clarity in explaining why the solution works, its time and space complexity\n",
    "\n",
    "-   Clarity in the proposal to the alternative solution"
   ]
  },
  {
   "cell_type": "markdown",
   "metadata": {},
   "source": [
    "## Submission Information\n",
    "\n",
    "🚨 **Please review our [Assignment Submission Guide](https://github.com/UofT-DSI/onboarding/blob/main/onboarding_documents/submissions.md)** 🚨 for detailed instructions on how to format, branch, and submit your work. Following these guidelines is crucial for your submissions to be evaluated correctly.\n",
    "\n",
    "### Submission Parameters:\n",
    "* Submission Due Date: `HH:MM AM/PM - DD/MM/YYYY`\n",
    "* The branch name for your repo should be: `assignment-1`\n",
    "* What to submit for this assignment:\n",
    "    * This Jupyter Notebook (assignment_1.ipynb) should be populated and should be the only change in your pull request.\n",
    "* What the pull request link should look like for this assignment: `https://github.com/<your_github_username>/algorithms_and_data_structures/pull/<pr_id>`\n",
    "    * Open a private window in your browser. Copy and paste the link to your pull request into the address bar. Make sure you can see your pull request properly. This helps the technical facilitator and learning support staff review your submission easily.\n",
    "\n",
    "Checklist:\n",
    "- [ ] Create a branch called `assignment-1`.\n",
    "- [ ] Ensure that the repository is public.\n",
    "- [ ] Review [the PR description guidelines](https://github.com/UofT-DSI/onboarding/blob/main/onboarding_documents/submissions.md#guidelines-for-pull-request-descriptions) and adhere to them.\n",
    "- [ ] Verify that the link is accessible in a private browser window.\n",
    "\n",
    "If you encounter any difficulties or have questions, please don't hesitate to reach out to our team via our Slack at `#cohort-3-help`. Our Technical Facilitators and Learning Support staff are here to help you navigate any challenges."
   ]
  }
 ],
 "metadata": {
  "kernelspec": {
   "display_name": "dsi_participant",
   "language": "python",
   "name": "python3"
  },
  "language_info": {
   "codemirror_mode": {
    "name": "ipython",
    "version": 3
   },
   "file_extension": ".py",
   "mimetype": "text/x-python",
   "name": "python",
   "nbconvert_exporter": "python",
   "pygments_lexer": "ipython3",
   "version": "3.9.19"
  }
 },
 "nbformat": 4,
 "nbformat_minor": 2
}
