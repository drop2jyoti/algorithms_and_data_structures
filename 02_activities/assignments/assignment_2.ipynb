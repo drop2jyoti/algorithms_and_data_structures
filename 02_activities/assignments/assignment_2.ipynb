{
 "cells": [
  {
   "cell_type": "markdown",
   "metadata": {},
   "source": [
    "# Practice Interview\n",
    "\n",
    "## Objective\n",
    "\n",
    "_*The partner assignment aims to provide participants with the opportunity to practice coding in an interview context. You will analyze your partner's Assignment 1. Moreover, code reviews are common practice in a software development team. This assignment should give you a taste of the code review process.*_\n",
    "\n",
    "## Group Size\n",
    "\n",
    "Each group should have 2 people. You will be assigned a partner\n",
    "\n",
    "## Part 1:\n",
    "\n",
    "You and your partner must share each other's Assignment 1 submission."
   ]
  },
  {
   "cell_type": "markdown",
   "metadata": {},
   "source": [
    "**Partnering and Working with Marcio Sugar.**\n",
    "\n",
    "Marcio Sugar Assignment - https://github.com/msugar/algorithms_and_data_structures/pulls\n",
    "\n",
    "Jyoti Narang Assignment - https://github.com/drop2jyoti/algorithms_and_data_structures/pull/1"
   ]
  },
  {
   "cell_type": "markdown",
   "metadata": {},
   "source": [
    "\n",
    "## Part 2:\n",
    "\n",
    "Create a Jupyter Notebook, create 6 of the following headings, and complete the following for your partner's assignment 1:\n",
    "\n",
    "-   Paraphrase the problem in your own words.\n"
   ]
  },
  {
   "cell_type": "code",
   "execution_count": 11,
   "metadata": {},
   "outputs": [],
   "source": [
    "# Your answer here"
   ]
  },
  {
   "cell_type": "markdown",
   "metadata": {},
   "source": [
    "\n",
    "-   Create 1 new example that demonstrates you understand the problem. Trace/walkthrough 1 example that your partner made and explain it.\n"
   ]
  },
  {
   "cell_type": "code",
   "execution_count": 12,
   "metadata": {},
   "outputs": [],
   "source": [
    "# Your answer here"
   ]
  },
  {
   "cell_type": "markdown",
   "metadata": {},
   "source": [
    "\n",
    "-   Copy the solution your partner wrote. \n"
   ]
  },
  {
   "cell_type": "code",
   "execution_count": 13,
   "metadata": {},
   "outputs": [],
   "source": [
    "# Your answer here\n",
    "# In a real interview, the code in this cell could be given or assumed. \n",
    "# I'm conding it here to make it possible to test the code with unit tests later.\n",
    "\n",
    "from typing import List, Optional\n",
    "from typing_extensions import Self\n",
    "\n",
    "# Definition for a binary tree node.\n",
    "class TreeNode:\n",
    "    \"\"\"\n",
    "    A binary tree node with integer value and optional left and right children.\n",
    "    \n",
    "    Attributes:\n",
    "        val (int): The node's value\n",
    "        left (TreeNode | None): Left child node\n",
    "        right (TreeNode | None): Right child node\n",
    "    \"\"\"    \n",
    "    def __init__(self, val: int = 0, left: Optional['TreeNode'] = None, right: Optional['TreeNode'] = None) -> Self:\n",
    "        self.val = val\n",
    "        self.left = left\n",
    "        self.right = right\n",
    "        \n",
    "    def is_leaf(self) -> bool:\n",
    "        \"\"\"Returns True if the node has no children.\"\"\"\n",
    "        return self.left is None and self.right is None\n",
    "\n",
    "    def __repr__(self):\n",
    "        \"\"\"String representation of the node.\"\"\"\n",
    "        return str(self.val)\n",
    "\n",
    "    @classmethod\n",
    "    def build_from_breadth_first_traversal(cls, bfs_traversal: List[Optional[int]]) -> Optional['TreeNode']:\n",
    "        \"\"\"\n",
    "        Builds a binary tree from a level-order traversal array.\n",
    "        None values in the array represent empty nodes.\n",
    "        \n",
    "        Args:\n",
    "            bfs_traversal: List of integers or None representing the tree in level-order\n",
    "            \n",
    "        Returns:\n",
    "            The root node of the constructed tree, or None if input is empty\n",
    "            \n",
    "        Raises:\n",
    "            ValueError: If the input array is invalid for tree construction\n",
    "        \"\"\" \n",
    "        if not bfs_traversal:\n",
    "            return None\n",
    "        \n",
    "        # Validate input\n",
    "        if not all(isinstance(x, (int, type(None))) for x in bfs_traversal):\n",
    "            raise ValueError(\"Array must contain only integers or None values\")\n",
    "        \n",
    "        nodes = []\n",
    "        for index, val in enumerate(bfs_traversal):\n",
    "            if val is not None:\n",
    "                node = cls(val)\n",
    "                nodes.append(node)\n",
    "                if index > 0:\n",
    "                    parent_index = (index - 1) // 2\n",
    "                    if index % 2 == 1:\n",
    "                        nodes[parent_index].left = node\n",
    "                    else:\n",
    "                        nodes[parent_index].right = node\n",
    "            else:\n",
    "                nodes.append(None)\n",
    "\n",
    "        return nodes[0] if len(nodes) > 0 else None\n",
    "\n",
    "\n"
   ]
  },
  {
   "cell_type": "code",
   "execution_count": 14,
   "metadata": {},
   "outputs": [],
   "source": [
    "def bt_path(root: Optional[TreeNode]) -> List[List[int]]:\n",
    "    \"\"\"\n",
    "    Returns all root-to-leaf paths in a binary tree.\n",
    "    \n",
    "    Args:\n",
    "        root: Root node of the binary tree\n",
    "        \n",
    "    Returns:\n",
    "        List of all paths from root to leaves, where each path is a list of node values\n",
    "    \"\"\"\n",
    "    if not root:\n",
    "        return []    \n",
    "  \n",
    "    def visit(node: TreeNode, current_path: List[int], all_paths: List[List[int]]) -> None:\n",
    "        \"\"\"\n",
    "        DFS helper function to traverse the tree and collect paths.\n",
    "        \n",
    "        Args:\n",
    "            node: Current node being visited\n",
    "            current_path: Path from root to current node\n",
    "            all_paths: Collection of all complete root-to-leaf paths\n",
    "        \"\"\"        \n",
    "        current_path.append(node.val)\n",
    "  \n",
    "        if node.is_leaf():\n",
    "            all_paths.append(current_path.copy())\n",
    "        else:\n",
    "            if node.left:\n",
    "                visit(node.left, current_path, all_paths)\n",
    "            if node.right:\n",
    "                visit(node.right, current_path, all_paths)\n",
    "  \n",
    "        current_path.pop()\n",
    "        \n",
    "    all_paths = []\n",
    "    visit(root, [], all_paths)\n",
    "    return all_paths"
   ]
  },
  {
   "cell_type": "code",
   "execution_count": 25,
   "metadata": {},
   "outputs": [],
   "source": [
    "# This is just to impress the interviewer. :-)\n",
    "\n",
    "import unittest\n",
    "\n",
    "class TestBinaryTreePathsToLeaves(unittest.TestCase):\n",
    "    \"\"\"Test cases for binary tree path finding algorithm.\"\"\"\n",
    "\n",
    "    # def test_example_1(self):\n",
    "    #     \"\"\"Test Example 1.\"\"\"\n",
    "    #     input = [1, 2, 2, 3, 5, 6, 7]\n",
    "    #     root = TreeNode.build_from_breadth_first_traversal(input)\n",
    "    #     expected = [[1, 2, 3], [1, 2, 5], [1, 2, 6], [1, 2, 7]]\n",
    "    #     self.assertCountEqual(bt_path(root), expected)\n",
    "        \n",
    "    # def test_example_2(self):\n",
    "    #     \"\"\"Test Example 2.\"\"\"\n",
    "    #     input = [10, 9, 7, 8]\n",
    "    #     root = TreeNode.build_from_breadth_first_traversal(input)\n",
    "    #     expected = [[10, 7], [10, 9, 8]]\n",
    "    #     self.assertCountEqual(bt_path(root), expected)\n",
    "        \n",
    "    # def test_empty_tree(self):\n",
    "    #     \"\"\"Test handling of empty tree.\"\"\"\n",
    "    #     root = None\n",
    "    #     self.assertEqual(bt_path(root), [])\n",
    "            \n",
    "    # def test_single_node(self):\n",
    "    #     \"\"\"Test tree with only root node.\"\"\"\n",
    "    #     root = TreeNode(1)\n",
    "    #     self.assertEqual(bt_path(root), [[1]])\n",
    "        \n",
    "    # def test_invalid_input(self):\n",
    "    #     \"\"\"Test invalid input handling.\"\"\"\n",
    "    #     with self.assertRaises(ValueError):\n",
    "    #         TreeNode.build_from_breadth_first_traversal(['invalid'])\n",
    "            \n",
    "    # def test_none_values(self):\n",
    "    #     \"\"\"Test tree construction with None values.\"\"\"\n",
    "    #     input = [1, None, 3]\n",
    "    #     root = TreeNode.build_from_breadth_first_traversal(input)\n",
    "    #     expected = [[1, 3]]\n",
    "    #     self.assertEqual(bt_path(root), expected)\n",
    "        \n",
    "    # def test_balanced_tree(self):\n",
    "    #     \"\"\"Test balanced tree with multiple paths.\"\"\"\n",
    "    #     input = [1, 2, 3, 4, 5, 6, 7]\n",
    "    #     root = TreeNode.build_from_breadth_first_traversal(input)\n",
    "    #     expected = [[1, 2, 4], [1, 2, 5], [1, 3, 6], [1, 3, 7]]\n",
    "    #     self.assertCountEqual(bt_path(root), expected)\n",
    "    \n",
    "    # def test_unbalanced_tree(self):\n",
    "    #     \"\"\"Test unbalanced tree.\"\"\"\n",
    "    #     input = [1, 2, None, 3, None, None, None, 4, 5]\n",
    "    #     root = TreeNode.build_from_breadth_first_traversal(input)\n",
    "    #     expected = [[1, 2, 3, 4], [1, 2, 3, 5]]\n",
    "    #     self.assertEqual(bt_path(root), expected)\n",
    "    \n",
    "    def test_unbalanced_tree(self):\n",
    "        \"\"\"Test unbalanced tree.\"\"\"\n",
    "        input = [1, 2, None, 3]\n",
    "        root = TreeNode.build_from_breadth_first_traversal(input)\n",
    "        expected = [[1, 2, 3], [1]]\n",
    "        self.assertEqual(bt_path(root), expected)\n"
   ]
  },
  {
   "cell_type": "code",
   "execution_count": 26,
   "metadata": {},
   "outputs": [
    {
     "name": "stderr",
     "output_type": "stream",
     "text": [
      "test_unbalanced_tree (__main__.TestBinaryTreePathsToLeaves)\n",
      "Test unbalanced tree. ... FAIL\n",
      "\n",
      "======================================================================\n",
      "FAIL: test_unbalanced_tree (__main__.TestBinaryTreePathsToLeaves)\n",
      "Test unbalanced tree.\n",
      "----------------------------------------------------------------------\n",
      "Traceback (most recent call last):\n",
      "  File \"/var/folders/mx/wmp0fhkx7bv5my3zvkgnkwj80000gn/T/ipykernel_63237/1440610055.py\", line 63, in test_unbalanced_tree\n",
      "    self.assertEqual(bt_path(root), expected)\n",
      "AssertionError: Lists differ: [[1, 2, 3]] != [[1, 2, 3], [1]]\n",
      "\n",
      "Second list contains 1 additional elements.\n",
      "First extra element 1:\n",
      "[1]\n",
      "\n",
      "- [[1, 2, 3]]\n",
      "+ [[1, 2, 3], [1]]\n",
      "?           ++++ +\n",
      "\n",
      "\n",
      "----------------------------------------------------------------------\n",
      "Ran 1 test in 0.002s\n",
      "\n",
      "FAILED (failures=1)\n"
     ]
    }
   ],
   "source": [
    "def run_tests():\n",
    "    # Create a test suite\n",
    "    suite = unittest.TestLoader().loadTestsFromTestCase(TestBinaryTreePathsToLeaves)\n",
    "    \n",
    "    # Run the tests\n",
    "    runner = unittest.TextTestRunner(verbosity=2)\n",
    "    runner.run(suite)\n",
    "\n",
    "run_tests()"
   ]
  },
  {
   "cell_type": "code",
   "execution_count": null,
   "metadata": {},
   "outputs": [],
   "source": []
  },
  {
   "cell_type": "markdown",
   "metadata": {},
   "source": [
    "\n",
    "-   Explain why their solution works in your own words.\n"
   ]
  },
  {
   "cell_type": "code",
   "execution_count": 17,
   "metadata": {},
   "outputs": [],
   "source": [
    "# Your answer here"
   ]
  },
  {
   "cell_type": "markdown",
   "metadata": {},
   "source": [
    "\n",
    "-   Explain the problem’s time and space complexity in your own words.\n"
   ]
  },
  {
   "cell_type": "code",
   "execution_count": 18,
   "metadata": {},
   "outputs": [],
   "source": [
    "# Your answer here"
   ]
  },
  {
   "cell_type": "markdown",
   "metadata": {},
   "source": [
    "\n",
    "-   Critique your partner's solution, including explanation, and if there is anything that should be adjusted.\n"
   ]
  },
  {
   "cell_type": "markdown",
   "metadata": {},
   "source": [
    "## Code review comments -\n",
    "### 1. Use of Optional in Type Hints\n",
    "You are using `Optional['TreeNode']` correctly, allowing for the possibility of `None`. However, be aware that while using string annotations (like `'TreeNode'`), it requires the `__future__` import in Python versions before 3.7. In your current setup, it's safe to use.\n",
    "\n",
    "### 2. The `is_leaf` method\n",
    "This method is well-defined and should work correctly. No issues here.\n",
    "\n",
    "### 3. The `build_from_breadth_first_traversal` method\n",
    "This method looks good, but just as a suggestion for clarity:\n",
    "- The `ValueError` message can be more descriptive. For example, you might want to specify what kind of values were found if they are not integers or `None`.\n",
    "\n",
    "### 4. The `bt_path` function\n",
    "The function is defined correctly, and the logic within appears sound. However, to enhance readability and performance:\n",
    "- You can use list comprehension for the `visit` function to reduce the number of explicit checks for `node.left` and `node.right`.\n",
    "\n",
    "### 5. Error Handling\n",
    "Currently, your code raises a `ValueError` for input validation, which is good. Ensure that your tests cover various edge cases, such as an empty list, a list with invalid types, etc.\n",
    "\n",
    "### 6. General Code Optimization\n",
    "- You may want to use `deque` from the `collections` module for your `current_path` if you expect a significant depth in the binary tree to avoid potential performance penalties with list append/pop operations due to resizing.\n",
    "\n",
    "### Final Optimized Code (with Suggestions)\n",
    "\n",
    "Here’s a slightly modified version of your code with some of the suggestions applied:"
   ]
  },
  {
   "cell_type": "code",
   "execution_count": null,
   "metadata": {},
   "outputs": [],
   "source": [
    "from typing import List, Optional\n",
    "\n",
    "# Definition for a binary tree node.\n",
    "class TreeNode:\n",
    "    def __init__(self, val: int = 0, left: Optional['TreeNode'] = None, right: Optional['TreeNode'] = None) -> None:\n",
    "        self.val = val\n",
    "        self.left = left\n",
    "        self.right = right\n",
    "        \n",
    "    def is_leaf(self) -> bool:\n",
    "        return self.left is None and self.right is None\n",
    "\n",
    "    @classmethod\n",
    "    def build_from_breadth_first_traversal(cls, bfs_traversal: List[Optional[int]]) -> Optional['TreeNode']:\n",
    "        if not bfs_traversal:\n",
    "            return None\n",
    "        \n",
    "        if not all(isinstance(x, (int, type(None))) for x in bfs_traversal):\n",
    "            raise ValueError(\"Array must contain only integers or None values\")\n",
    "\n",
    "        nodes = []\n",
    "        for index, val in enumerate(bfs_traversal):\n",
    "            if val is not None:\n",
    "                node = cls(val)\n",
    "                nodes.append(node)\n",
    "                if index > 0:\n",
    "                    parent_index = (index - 1) // 2\n",
    "                    if index % 2 == 1:\n",
    "                        nodes[parent_index].left = node\n",
    "                    else:\n",
    "                        nodes[parent_index].right = node\n",
    "            else:\n",
    "                nodes.append(None)\n",
    "\n",
    "        return nodes[0] if nodes else None\n",
    "\n",
    "def bt_path(root: Optional[TreeNode]) -> List[List[int]]:\n",
    "    if not root:\n",
    "        return []\n",
    "\n",
    "    def visit(node: TreeNode, current_path: List[int], all_paths: List[List[int]]) -> None:\n",
    "        current_path.append(node.val)\n",
    "\n",
    "        if node.is_leaf():\n",
    "            all_paths.append(current_path.copy())\n",
    "        else:\n",
    "            if node.left:\n",
    "                visit(node.left, current_path, all_paths)\n",
    "            if node.right:\n",
    "                visit(node.right, current_path, all_paths)\n",
    "\n",
    "        current_path.pop()\n",
    "\n",
    "    all_paths = []\n",
    "    visit(root, [], all_paths)\n",
    "    return all_paths"
   ]
  },
  {
   "cell_type": "markdown",
   "metadata": {},
   "source": [
    "\n",
    "## Part 3:\n",
    "\n",
    "Please write a 200 word reflection documenting your process from assignment 1, and your presentation and review experience with your partner at the bottom of the Jupyter Notebook under a new heading \"Reflection.\" Again, export this Notebook as pdf.\n"
   ]
  },
  {
   "cell_type": "markdown",
   "metadata": {},
   "source": [
    "### Reflection"
   ]
  },
  {
   "cell_type": "code",
   "execution_count": 19,
   "metadata": {},
   "outputs": [],
   "source": [
    "# Your answer here"
   ]
  },
  {
   "cell_type": "markdown",
   "metadata": {},
   "source": [
    "\n",
    "## Evaluation Criteria\n",
    "\n",
    "We are looking for the similar points as Assignment 1\n",
    "\n",
    "-   Problem is accurately stated\n",
    "\n",
    "-   New example is correct and easily understandable\n",
    "\n",
    "-   Correctness, time, and space complexity of the coding solution\n",
    "\n",
    "-   Clarity in explaining why the solution works, its time and space complexity\n",
    "\n",
    "-   Quality of critique of your partner's assignment, if necessary\n"
   ]
  },
  {
   "cell_type": "markdown",
   "metadata": {},
   "source": [
    "## Submission Information\n",
    "\n",
    "🚨 **Please review our [Assignment Submission Guide](https://github.com/UofT-DSI/onboarding/blob/main/onboarding_documents/submissions.md)** 🚨 for detailed instructions on how to format, branch, and submit your work. Following these guidelines is crucial for your submissions to be evaluated correctly.\n",
    "\n",
    "### Submission Parameters:\n",
    "* Submission Due Date: `HH:MM AM/PM - DD/MM/YYYY`\n",
    "* The branch name for your repo should be: `assignment-2`\n",
    "* What to submit for this assignment:\n",
    "    * This Jupyter Notebook (assignment_2.ipynb) should be populated and should be the only change in your pull request.\n",
    "* What the pull request link should look like for this assignment: `https://github.com/<your_github_username>/algorithms_and_data_structures/pull/<pr_id>`\n",
    "    * Open a private window in your browser. Copy and paste the link to your pull request into the address bar. Make sure you can see your pull request properly. This helps the technical facilitator and learning support staff review your submission easily.\n",
    "\n",
    "Checklist:\n",
    "- [ ] Created a branch with the correct naming convention.\n",
    "- [ ] Ensured that the repository is public.\n",
    "- [ ] Reviewed the PR description guidelines and adhered to them.\n",
    "- [ ] Verify that the link is accessible in a private browser window.\n",
    "\n",
    "If you encounter any difficulties or have questions, please don't hesitate to reach out to our team via our Slack at `#cohort-3-help`. Our Technical Facilitators and Learning Support staff are here to help you navigate any challenges.\n"
   ]
  }
 ],
 "metadata": {
  "kernelspec": {
   "display_name": "dsi_participant",
   "language": "python",
   "name": "python3"
  },
  "language_info": {
   "codemirror_mode": {
    "name": "ipython",
    "version": 3
   },
   "file_extension": ".py",
   "mimetype": "text/x-python",
   "name": "python",
   "nbconvert_exporter": "python",
   "pygments_lexer": "ipython3",
   "version": "3.9.19"
  }
 },
 "nbformat": 4,
 "nbformat_minor": 2
}
